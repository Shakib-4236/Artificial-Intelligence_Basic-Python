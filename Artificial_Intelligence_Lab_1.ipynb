{
  "nbformat": 4,
  "nbformat_minor": 0,
  "metadata": {
    "colab": {
      "provenance": [],
      "authorship_tag": "ABX9TyN/Mg0fLc6HI4glZ77TZHJS",
      "include_colab_link": true
    },
    "kernelspec": {
      "name": "python3",
      "display_name": "Python 3"
    },
    "language_info": {
      "name": "python"
    }
  },
  "cells": [
    {
      "cell_type": "markdown",
      "metadata": {
        "id": "view-in-github",
        "colab_type": "text"
      },
      "source": [
        "<a href=\"https://colab.research.google.com/github/Shakib-4236/Artificial-Intelligence_Basic-Python/blob/main/Artificial_Intelligence_Lab_1.ipynb\" target=\"_parent\"><img src=\"https://colab.research.google.com/assets/colab-badge.svg\" alt=\"Open In Colab\"/></a>"
      ]
    },
    {
      "cell_type": "code",
      "execution_count": null,
      "metadata": {
        "colab": {
          "base_uri": "https://localhost:8080/"
        },
        "id": "bq07kdENFQLL",
        "outputId": "14d5e58b-4969-45ff-92bb-f8fb976a7b2e"
      },
      "outputs": [
        {
          "output_type": "stream",
          "name": "stdout",
          "text": [
            "10\n",
            "Shakib\n"
          ]
        }
      ],
      "source": [
        "#Creating Variables\n",
        "x = 10\n",
        "y = \"Shakib\"\n",
        "print(x)\n",
        "print(y)"
      ]
    },
    {
      "cell_type": "code",
      "source": [
        "#Gate the Type\n",
        "x = 50\n",
        "y = \"Jalal\"\n",
        "print(type(x))\n",
        "print(type(y))"
      ],
      "metadata": {
        "colab": {
          "base_uri": "https://localhost:8080/"
        },
        "id": "JUwvzAFDF3Lm",
        "outputId": "68ddc061-0126-44fd-ca5f-bd44a56802c3"
      },
      "execution_count": null,
      "outputs": [
        {
          "output_type": "stream",
          "name": "stdout",
          "text": [
            "<class 'int'>\n",
            "<class 'str'>\n"
          ]
        }
      ]
    },
    {
      "cell_type": "code",
      "source": [
        "#Many Values to Multiple Variables\n",
        "x, y, z = \"Shakib\", \"Sabbir\",\"Jalal\"\n",
        "print(x)\n",
        "print(y)\n",
        "print(z)"
      ],
      "metadata": {
        "colab": {
          "base_uri": "https://localhost:8080/"
        },
        "id": "je0xS6I0GOd8",
        "outputId": "4d5aca63-9e76-4ceb-a35d-baf63854ca39"
      },
      "execution_count": null,
      "outputs": [
        {
          "output_type": "stream",
          "name": "stdout",
          "text": [
            "Shakib\n",
            "Sabbir\n",
            "Jalal\n"
          ]
        }
      ]
    },
    {
      "cell_type": "code",
      "source": [
        "x = y = z = \"AI\"\n",
        "print(x)\n",
        "print(y)\n",
        "print(z)"
      ],
      "metadata": {
        "colab": {
          "base_uri": "https://localhost:8080/"
        },
        "id": "Yk_1lpwnGq-8",
        "outputId": "7d56d9c0-ddc5-4428-e74d-ff90cdd96843"
      },
      "execution_count": null,
      "outputs": [
        {
          "output_type": "stream",
          "name": "stdout",
          "text": [
            "AI\n",
            "AI\n",
            "AI\n"
          ]
        }
      ]
    },
    {
      "cell_type": "code",
      "source": [
        "fruits = [\"apple\",\"banana\",\"cherry\"]\n",
        "x, y, z = fruits\n",
        "print(x)\n",
        "print(y)\n",
        "print(z)"
      ],
      "metadata": {
        "colab": {
          "base_uri": "https://localhost:8080/"
        },
        "id": "-5G9-M_dHFjF",
        "outputId": "4c111210-fadd-40e0-efb4-d0c0bf1bffd0"
      },
      "execution_count": null,
      "outputs": [
        {
          "output_type": "stream",
          "name": "stdout",
          "text": [
            "apple\n",
            "banana\n",
            "cherry\n"
          ]
        }
      ]
    },
    {
      "cell_type": "code",
      "source": [
        "#Output Variables\n",
        "x = \"He is a student\"\n",
        "print(x)"
      ],
      "metadata": {
        "colab": {
          "base_uri": "https://localhost:8080/"
        },
        "id": "HvKFSvrdHz6A",
        "outputId": "76a7a932-f1d1-427d-e4fb-f42a13cfc904"
      },
      "execution_count": null,
      "outputs": [
        {
          "output_type": "stream",
          "name": "stdout",
          "text": [
            "He is a student\n"
          ]
        }
      ]
    },
    {
      "cell_type": "code",
      "source": [
        "#List\n",
        "list = [\"Shakib\",\"Jalal\",\"Sabbir\"]\n",
        "print(list)"
      ],
      "metadata": {
        "colab": {
          "base_uri": "https://localhost:8080/"
        },
        "id": "Y_TRi_pkICPM",
        "outputId": "966cf0b7-0292-4dc5-9271-e62705812ef2"
      },
      "execution_count": null,
      "outputs": [
        {
          "output_type": "stream",
          "name": "stdout",
          "text": [
            "['Shakib', 'Jalal', 'Sabbir']\n"
          ]
        }
      ]
    },
    {
      "cell_type": "code",
      "source": [
        "li_1 = [\"apple\", \"banana\", \"cherry\"]\n",
        "li_2 = [2, 4, 6, 8, 10]\n",
        "li_3 = [True, False, False]\n",
        "print(li_1)\n",
        "print(li_2)\n",
        "print(li_3)"
      ],
      "metadata": {
        "colab": {
          "base_uri": "https://localhost:8080/"
        },
        "id": "jcfVFEnsIhcc",
        "outputId": "e46e5567-a623-4b27-ac81-f7379bda07d7"
      },
      "execution_count": null,
      "outputs": [
        {
          "output_type": "stream",
          "name": "stdout",
          "text": [
            "['apple', 'banana', 'cherry']\n",
            "[2, 4, 6, 8, 10]\n",
            "[True, False, False]\n"
          ]
        }
      ]
    },
    {
      "cell_type": "code",
      "source": [
        "li = [\"XYZ\", 50, 80, True, \"CPC\"]\n",
        "print(li)"
      ],
      "metadata": {
        "colab": {
          "base_uri": "https://localhost:8080/"
        },
        "id": "DOaEBEcWJeQ3",
        "outputId": "f2235b8f-4a2c-42e1-fbf9-aa6627b9bfb9"
      },
      "execution_count": null,
      "outputs": [
        {
          "output_type": "stream",
          "name": "stdout",
          "text": [
            "['XYZ', 50, 80, True, 'CPC']\n"
          ]
        }
      ]
    },
    {
      "cell_type": "code",
      "source": [
        "#List type()\n",
        "Myli = [\"banana\", \"apple\", \"cherry\"]\n",
        "print(type(Myli))"
      ],
      "metadata": {
        "colab": {
          "base_uri": "https://localhost:8080/"
        },
        "id": "xC2lnQSFJxeO",
        "outputId": "3a7da6f8-e339-4ee5-fbfc-3dcfeeed3c1d"
      },
      "execution_count": null,
      "outputs": [
        {
          "output_type": "stream",
          "name": "stdout",
          "text": [
            "<class 'list'>\n"
          ]
        }
      ]
    },
    {
      "cell_type": "code",
      "source": [
        "li = [\"apple\", \"banana\", \"cherry\", \"orange\", \"kiwi\", \"mango\"]\n",
        "\n",
        "li[1:3] = [\"blackcurrant\", \"watermelon\"]\n",
        "\n",
        "print(li)\n"
      ],
      "metadata": {
        "colab": {
          "base_uri": "https://localhost:8080/"
        },
        "id": "z9rzXXwyKYhm",
        "outputId": "14a247b8-4d4d-4277-fbf2-204aeda510df"
      },
      "execution_count": null,
      "outputs": [
        {
          "output_type": "stream",
          "name": "stdout",
          "text": [
            "['apple', 'blackcurrant', 'watermelon', 'orange', 'kiwi', 'mango']\n"
          ]
        }
      ]
    },
    {
      "cell_type": "code",
      "source": [
        "#Open a File on the Server\n",
        "f = open(\"sh.txt\",\"r\")\n",
        "print(f.read)"
      ],
      "metadata": {
        "colab": {
          "base_uri": "https://localhost:8080/"
        },
        "id": "rtxlZk-RLXSP",
        "outputId": "c88e3168-0e0a-4b69-f674-cc4ece65dc17"
      },
      "execution_count": null,
      "outputs": [
        {
          "output_type": "stream",
          "name": "stdout",
          "text": [
            "<built-in method read of _io.TextIOWrapper object at 0x781633680380>\n"
          ]
        }
      ]
    },
    {
      "cell_type": "code",
      "source": [
        "f = open(\"sh.txt\", \"r\")\n",
        "print(f.read(10))"
      ],
      "metadata": {
        "colab": {
          "base_uri": "https://localhost:8080/"
        },
        "id": "3ceWY59XNLPf",
        "outputId": "3eebb4d1-9fd1-45a9-d7ba-65ac089e5d19"
      },
      "execution_count": null,
      "outputs": [
        {
          "output_type": "stream",
          "name": "stdout",
          "text": [
            "This is sh\n"
          ]
        }
      ]
    }
  ]
}