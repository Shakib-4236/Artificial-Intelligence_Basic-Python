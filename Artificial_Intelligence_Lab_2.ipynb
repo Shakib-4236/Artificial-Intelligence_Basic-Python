{
  "nbformat": 4,
  "nbformat_minor": 0,
  "metadata": {
    "colab": {
      "provenance": [],
      "authorship_tag": "ABX9TyNdyhQ3Vhz6W5o5TXMC2tIa",
      "include_colab_link": true
    },
    "kernelspec": {
      "name": "python3",
      "display_name": "Python 3"
    },
    "language_info": {
      "name": "python"
    }
  },
  "cells": [
    {
      "cell_type": "markdown",
      "metadata": {
        "id": "view-in-github",
        "colab_type": "text"
      },
      "source": [
        "<a href=\"https://colab.research.google.com/github/Shakib-4236/Artificial-Intelligence_Basic-Python/blob/main/Artificial_Intelligence_Lab_2.ipynb\" target=\"_parent\"><img src=\"https://colab.research.google.com/assets/colab-badge.svg\" alt=\"Open In Colab\"/></a>"
      ]
    },
    {
      "cell_type": "code",
      "execution_count": null,
      "metadata": {
        "colab": {
          "base_uri": "https://localhost:8080/"
        },
        "id": "iR7PsMPJAvwU",
        "outputId": "54abffb0-504c-406a-8f88-c10776eb1608"
      },
      "outputs": [
        {
          "output_type": "stream",
          "name": "stdout",
          "text": [
            "[10 20 30 40 50]\n"
          ]
        }
      ],
      "source": [
        "import numpy\n",
        "arr = numpy.array([10, 20, 30, 40, 50])\n",
        "print(arr)"
      ]
    },
    {
      "cell_type": "code",
      "source": [
        "import numpy as np\n",
        "arr = np.array([11, 22, 33, 34, 85])\n",
        "print(arr)"
      ],
      "metadata": {
        "colab": {
          "base_uri": "https://localhost:8080/"
        },
        "id": "huEKpcjkCDU6",
        "outputId": "8fa7db12-f912-4cda-b505-671b7e0ae173"
      },
      "execution_count": null,
      "outputs": [
        {
          "output_type": "stream",
          "name": "stdout",
          "text": [
            "[11 22 33 34 85]\n"
          ]
        }
      ]
    },
    {
      "cell_type": "code",
      "source": [
        "import numpy as np\n",
        "print(np.__version__)"
      ],
      "metadata": {
        "colab": {
          "base_uri": "https://localhost:8080/"
        },
        "id": "dM79Dp6FCWzp",
        "outputId": "94495b34-e613-447d-acf8-a0678a0c8670"
      },
      "execution_count": null,
      "outputs": [
        {
          "output_type": "stream",
          "name": "stdout",
          "text": [
            "1.22.4\n"
          ]
        }
      ]
    },
    {
      "cell_type": "code",
      "source": [
        "import numpy as np\n",
        "arr = np.array([20, 30, 44, 77, 100])\n",
        "print(arr)\n",
        "print(type(arr))"
      ],
      "metadata": {
        "colab": {
          "base_uri": "https://localhost:8080/"
        },
        "id": "qps-x_EUCv3J",
        "outputId": "1a4a6f7c-0730-4965-af5a-db953f640530"
      },
      "execution_count": null,
      "outputs": [
        {
          "output_type": "stream",
          "name": "stdout",
          "text": [
            "[ 20  30  44  77 100]\n",
            "<class 'numpy.ndarray'>\n"
          ]
        }
      ]
    },
    {
      "cell_type": "code",
      "source": [
        "import numpy as np\n",
        "arr = np.array(66)\n",
        "print(arr)"
      ],
      "metadata": {
        "colab": {
          "base_uri": "https://localhost:8080/"
        },
        "id": "ycmwSu_4C4DZ",
        "outputId": "d2cf492b-767c-44cb-87b7-237acb234108"
      },
      "execution_count": null,
      "outputs": [
        {
          "output_type": "stream",
          "name": "stdout",
          "text": [
            "66\n"
          ]
        }
      ]
    },
    {
      "cell_type": "code",
      "source": [
        "import numpy as np\n",
        "arr = np.array([[2, 4, 6], [10, 20, 30]])\n",
        "print(arr)"
      ],
      "metadata": {
        "colab": {
          "base_uri": "https://localhost:8080/"
        },
        "id": "ozUafBdyEGkj",
        "outputId": "5f1da8e2-e74f-4678-ea79-78d2fdbbbb4c"
      },
      "execution_count": null,
      "outputs": [
        {
          "output_type": "stream",
          "name": "stdout",
          "text": [
            "[[ 2  4  6]\n",
            " [10 20 30]]\n"
          ]
        }
      ]
    },
    {
      "cell_type": "code",
      "source": [
        "import numpy as np\n",
        "arr = np.array(10)\n",
        "print(arr)"
      ],
      "metadata": {
        "colab": {
          "base_uri": "https://localhost:8080/"
        },
        "id": "u9v3uPjCEigb",
        "outputId": "7cda9547-4beb-4f24-fbe3-dceb06ec33b2"
      },
      "execution_count": null,
      "outputs": [
        {
          "output_type": "stream",
          "name": "stdout",
          "text": [
            "10\n"
          ]
        }
      ]
    },
    {
      "cell_type": "code",
      "source": [
        "import numpy as np\n",
        "arr = np.array([[[[10, 20, 30], [50, 60, 70]], [[55, 88, 99], [77, 87, 95]]]])\n",
        "print(arr)"
      ],
      "metadata": {
        "colab": {
          "base_uri": "https://localhost:8080/"
        },
        "id": "hkx92dXfFDra",
        "outputId": "505ae72c-d2f3-47ce-f2db-59f81b71aa53"
      },
      "execution_count": null,
      "outputs": [
        {
          "output_type": "stream",
          "name": "stdout",
          "text": [
            "[[[[10 20 30]\n",
            "   [50 60 70]]\n",
            "\n",
            "  [[55 88 99]\n",
            "   [77 87 95]]]]\n"
          ]
        }
      ]
    },
    {
      "cell_type": "code",
      "source": [
        "import numpy as np\n",
        "A = np.array(100)\n",
        "B = np.array([11, 22, 33, 44, 55, 88])\n",
        "C = np.array([[10, 20, 30], [70, 80, 90]])\n",
        "D = np.array([[[2, 4, 6], [8, 10, 12]], [[14, 16, 20], [22, 24, 30]]])\n",
        "print(A.ndim)\n",
        "print(B.ndim)\n",
        "print(C.ndim)\n",
        "print(D.ndim)"
      ],
      "metadata": {
        "colab": {
          "base_uri": "https://localhost:8080/"
        },
        "id": "t_DZX25tHecF",
        "outputId": "0e155f05-4842-4447-c77d-2995c4f9481b"
      },
      "execution_count": null,
      "outputs": [
        {
          "output_type": "stream",
          "name": "stdout",
          "text": [
            "0\n",
            "1\n",
            "2\n",
            "3\n"
          ]
        }
      ]
    },
    {
      "cell_type": "code",
      "source": [
        "import numpy as np\n",
        "#A = np.array(100)\n",
        "#B = np.array([11, 22, 33, 44, 55, 88])\n",
        "#C = np.array([[10, 20, 30], [70, 80, 90]])\n",
        "D = np.array([[[2, 4, 6], [8, 10, 12]], [[14, 16, 20], [22, 24, 30]]])\n",
        "'''print(A.ndim)\n",
        "print(B.ndim)\n",
        "print(C.ndim)\n",
        "print(D.ndim)'''\n",
        "print(D)"
      ],
      "metadata": {
        "colab": {
          "base_uri": "https://localhost:8080/"
        },
        "id": "QaajzeYYLA2F",
        "outputId": "d45b6a98-5e71-4895-ddef-913c54d0119b"
      },
      "execution_count": null,
      "outputs": [
        {
          "output_type": "stream",
          "name": "stdout",
          "text": [
            "[[[ 2  4  6]\n",
            "  [ 8 10 12]]\n",
            "\n",
            " [[14 16 20]\n",
            "  [22 24 30]]]\n"
          ]
        }
      ]
    },
    {
      "cell_type": "code",
      "source": [
        "import numpy as np\n",
        "arr = np.array([74, 38, 89, 72], ndmin=5)\n",
        "print(arr)\n",
        "print(\"number of dimensions : \", arr.ndim)"
      ],
      "metadata": {
        "colab": {
          "base_uri": "https://localhost:8080/"
        },
        "id": "GP-EwcCdL1ed",
        "outputId": "17805e1f-95d4-455e-cde9-6c88bb4105ee"
      },
      "execution_count": null,
      "outputs": [
        {
          "output_type": "stream",
          "name": "stdout",
          "text": [
            "[[[[[74 38 89 72]]]]]\n",
            "number of dimensions :  5\n"
          ]
        }
      ]
    },
    {
      "cell_type": "code",
      "source": [
        "import numpy as np\n",
        "arr = np.array([17, 27, 31, 45])\n",
        "print(arr[2])\n"
      ],
      "metadata": {
        "colab": {
          "base_uri": "https://localhost:8080/"
        },
        "id": "f2qMZcOfOzKW",
        "outputId": "e80d91f8-f519-4823-8132-1f53bee7bf55"
      },
      "execution_count": null,
      "outputs": [
        {
          "output_type": "stream",
          "name": "stdout",
          "text": [
            "31\n"
          ]
        }
      ]
    },
    {
      "cell_type": "code",
      "source": [
        "import numpy as np\n",
        "arr = np.array([1, 2, 3, 4, 5, 6, 7])\n",
        "print(arr[:5])\n"
      ],
      "metadata": {
        "colab": {
          "base_uri": "https://localhost:8080/"
        },
        "id": "MCH7-vywQzI2",
        "outputId": "1767000c-c298-4d71-b241-83d5a5ab3a7c"
      },
      "execution_count": null,
      "outputs": [
        {
          "output_type": "stream",
          "name": "stdout",
          "text": [
            "[1 2 3 4 5]\n"
          ]
        }
      ]
    },
    {
      "cell_type": "code",
      "source": [
        "import numpy as np\n",
        "arr = np.array([1, 2, 3, 4, 5, 6, 7])\n",
        "print(arr[-4:-2])"
      ],
      "metadata": {
        "colab": {
          "base_uri": "https://localhost:8080/"
        },
        "id": "lSQ1VszwRRnv",
        "outputId": "5500b969-41d0-4cec-e98d-4237ef125cda"
      },
      "execution_count": null,
      "outputs": [
        {
          "output_type": "stream",
          "name": "stdout",
          "text": [
            "[4 5]\n"
          ]
        }
      ]
    }
  ]
}